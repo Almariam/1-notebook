{
 "cells": [
  {
   "cell_type": "markdown",
   "id": "f62c8a4a-99d5-495d-b9db-e67dfab4cc41",
   "metadata": {},
   "source": [
    "# Data Science Tools and Ecosystem"
   ]
  },
  {
   "cell_type": "markdown",
   "id": "cfcca0ba-ca95-435a-b4d3-613cad4b6f4d",
   "metadata": {},
   "source": [
    "In this notebook, Data Science Tools and Ecosystem are summarized."
   ]
  },
  {
   "cell_type": "markdown",
   "id": "cd2624ba-6d42-4365-a598-aa309785ffd7",
   "metadata": {},
   "source": [
    "Some of the popular languages that Data Scientists use are:\n",
    "1. Python\n",
    "2. R\n",
    "3. SQL"
   ]
  },
  {
   "cell_type": "markdown",
   "id": "3b7687e8-22c9-4f4e-962a-bce2982018e3",
   "metadata": {},
   "source": [
    "Some of the commonly used libraries used by Data Scientists include:\n",
    "1. Pandas\n",
    "2. Numpy\n",
    "3. Matplotlib"
   ]
  },
  {
   "cell_type": "markdown",
   "id": "d04c040d-b0d2-4872-9068-0c6b36ef172b",
   "metadata": {},
   "source": [
    "|Data Science Tools|\n",
    "|-------------------|\n",
    "|Jupyter notebook|\n",
    "|Visual Studio|\n",
    "|Spyder|"
   ]
  },
  {
   "cell_type": "markdown",
   "id": "ffbd256b-59b5-4d9d-bffb-0e995510501f",
   "metadata": {},
   "source": [
    "### Below are a few examples of evaluating arithmetic expressions in Python"
   ]
  },
  {
   "cell_type": "code",
   "execution_count": 1,
   "id": "6cfe4087-96ae-4694-a5b8-51ce73838b66",
   "metadata": {},
   "outputs": [
    {
     "data": {
      "text/plain": [
       "17"
      ]
     },
     "execution_count": 1,
     "metadata": {},
     "output_type": "execute_result"
    }
   ],
   "source": [
    "(3*4)+5 #This a simple arithmetic expression to mutiply then add integers."
   ]
  },
  {
   "cell_type": "markdown",
   "id": "4230a768-478d-4904-b31f-8594c624597d",
   "metadata": {},
   "source": [
    "**Objectives:**\n",
    "* Getting introduced to data sience languages\n",
    "* Getting introduced to data science libraries\n",
    "* How repositories work"
   ]
  },
  {
   "cell_type": "markdown",
   "id": "e2fdffb4-a1fd-404f-ab29-07d7cf56188b",
   "metadata": {},
   "source": [
    "## Author\n",
    "Fiseha Gebremariam"
   ]
  },
  {
   "cell_type": "code",
   "execution_count": null,
   "id": "35b9e55e-7743-4137-b90e-3f4a72be3388",
   "metadata": {},
   "outputs": [],
   "source": []
  }
 ],
 "metadata": {
  "kernelspec": {
   "display_name": "Python 3 (ipykernel)",
   "language": "python",
   "name": "python3"
  },
  "language_info": {
   "codemirror_mode": {
    "name": "ipython",
    "version": 3
   },
   "file_extension": ".py",
   "mimetype": "text/x-python",
   "name": "python",
   "nbconvert_exporter": "python",
   "pygments_lexer": "ipython3",
   "version": "3.13.2"
  }
 },
 "nbformat": 4,
 "nbformat_minor": 5
}
